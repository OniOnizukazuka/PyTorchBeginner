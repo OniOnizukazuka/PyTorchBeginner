{
  "nbformat": 4,
  "nbformat_minor": 0,
  "metadata": {
    "colab": {
      "provenance": [],
      "gpuType": "T4",
      "include_colab_link": true
    },
    "kernelspec": {
      "name": "python3",
      "display_name": "Python 3"
    },
    "accelerator": "GPU",
    "gpuClass": "standard"
  },
  "cells": [
    {
      "cell_type": "markdown",
      "metadata": {
        "id": "view-in-github",
        "colab_type": "text"
      },
      "source": [
        "<a href=\"https://colab.research.google.com/github/OniOnizukazuka/PyTorchBeginner/blob/main/PyTorchBeginner02.ipynb\" target=\"_parent\"><img src=\"https://colab.research.google.com/assets/colab-badge.svg\" alt=\"Open In Colab\"/></a>"
      ]
    },
    {
      "cell_type": "markdown",
      "source": [
        "[Tensor Basics - PyTorch Beginner 02](https://www.python-engineer.com/courses/pytorchbeginner/01-installation/)"
      ],
      "metadata": {
        "id": "udAbLIOJ685a"
      }
    },
    {
      "cell_type": "markdown",
      "source": [],
      "metadata": {
        "id": "-SAN_ems__wT"
      }
    },
    {
      "cell_type": "markdown",
      "source": [
        "# **02 Tensor Basics**\n",
        "This part covers the basics of Tensors and Tensor operations in PyTorch. Learn also how to convert from numpy data to PyTorch tensors and vice versa!"
      ],
      "metadata": {
        "id": "kHK80XSp6QZr"
      }
    },
    {
      "cell_type": "markdown",
      "source": [
        "## Tensor\n",
        "Everything in PyTorch is based on Tesor operations. A tensor can have different dimensions, so it can be 1d(scalar), 2d(vector), or even 3d(matrix) and higher. Let's have a look how we can create a tensor in PyTorch."
      ],
      "metadata": {
        "id": "EeBbayXEzgk7"
      }
    },
    {
      "cell_type": "code",
      "metadata": {
        "id": "0f5qOaxWP0Q_",
        "colab": {
          "base_uri": "https://localhost:8080/"
        },
        "outputId": "ab77161b-4cf2-4898-a102-cd22e5527fa1"
      },
      "source": [
        "import torch\n",
        "\n",
        "x = torch.empty(1) #scalar\n",
        "print(x)"
      ],
      "execution_count": 17,
      "outputs": [
        {
          "output_type": "stream",
          "name": "stdout",
          "text": [
            "tensor([9.0413e-38])\n"
          ]
        }
      ]
    },
    {
      "cell_type": "code",
      "source": [
        "x = torch.empty(3) #vector,1D\n",
        "print(x)"
      ],
      "metadata": {
        "id": "xL8_0Oa31DZU",
        "outputId": "685b1c9a-a46f-4d73-b34f-20d2b742abf5",
        "colab": {
          "base_uri": "https://localhost:8080/"
        }
      },
      "execution_count": 18,
      "outputs": [
        {
          "output_type": "stream",
          "name": "stdout",
          "text": [
            "tensor([9.0431e-38, 0.0000e+00, 7.6498e-35])\n"
          ]
        }
      ]
    },
    {
      "cell_type": "code",
      "source": [
        "x = torch.empty(2,3) #matrix,2D\n",
        "print(x)"
      ],
      "metadata": {
        "id": "UPwQUUzQ1KvC",
        "outputId": "8234eed2-199b-44bf-fd07-7c9dcdc682b2",
        "colab": {
          "base_uri": "https://localhost:8080/"
        }
      },
      "execution_count": 19,
      "outputs": [
        {
          "output_type": "stream",
          "name": "stdout",
          "text": [
            "tensor([[-3.1547e+02,  4.5577e-41,  7.6494e-35],\n",
            "        [ 0.0000e+00, -3.3031e+23,  4.5576e-41]])\n"
          ]
        }
      ]
    },
    {
      "cell_type": "code",
      "source": [
        "x = torch.empty(2,2,3) #tensor,3Dimensions\n",
        "print(x)"
      ],
      "metadata": {
        "id": "g2YtECLs1Nuq",
        "outputId": "17065a12-cd0e-4eb5-de81-f200ad86a8be",
        "colab": {
          "base_uri": "https://localhost:8080/"
        }
      },
      "execution_count": 20,
      "outputs": [
        {
          "output_type": "stream",
          "name": "stdout",
          "text": [
            "tensor([[[ 0.0000e+00,  0.0000e+00,  0.0000e+00],\n",
            "         [ 0.0000e+00,  9.0432e-38,  0.0000e+00]],\n",
            "\n",
            "        [[ 8.7208e-36,  0.0000e+00, -4.1043e+23],\n",
            "         [ 4.5576e-41,  1.4013e-45,  0.0000e+00]]])\n"
          ]
        }
      ]
    },
    {
      "cell_type": "code",
      "source": [
        "x = torch.empty(2,2,2,3) #tensor,4Dimensions\n",
        "print(x)"
      ],
      "metadata": {
        "id": "ogY_uvrP1W66",
        "outputId": "c9fe874e-87c8-408b-e6b0-786f1043d26b",
        "colab": {
          "base_uri": "https://localhost:8080/"
        }
      },
      "execution_count": 21,
      "outputs": [
        {
          "output_type": "stream",
          "name": "stdout",
          "text": [
            "tensor([[[[9.0410e-38, 0.0000e+00, 0.0000e+00],\n",
            "          [0.0000e+00, 0.0000e+00, 0.0000e+00]],\n",
            "\n",
            "         [[0.0000e+00, 0.0000e+00, 1.4013e-45],\n",
            "          [0.0000e+00, 0.0000e+00, 0.0000e+00]]],\n",
            "\n",
            "\n",
            "        [[[1.4013e-45, 0.0000e+00, 0.0000e+00],\n",
            "          [0.0000e+00, 1.4013e-45, 0.0000e+00]],\n",
            "\n",
            "         [[1.4013e-45, 0.0000e+00, 1.4013e-45],\n",
            "          [0.0000e+00, 0.0000e+00, 0.0000e+00]]]])\n"
          ]
        }
      ]
    },
    {
      "cell_type": "code",
      "source": [
        "# torch.rand(size): random numbers [0, 1]\n",
        "x = torch.rand(5, 3)\n",
        "print(x)"
      ],
      "metadata": {
        "colab": {
          "base_uri": "https://localhost:8080/"
        },
        "id": "WTMzY7ym1GAS",
        "outputId": "bed23258-77fd-4120-fbc4-c31f95da8dbd"
      },
      "execution_count": 22,
      "outputs": [
        {
          "output_type": "stream",
          "name": "stdout",
          "text": [
            "tensor([[0.7208, 0.1450, 0.3269],\n",
            "        [0.2872, 0.3696, 0.9128],\n",
            "        [0.0188, 0.5525, 0.2615],\n",
            "        [0.2808, 0.7918, 0.1416],\n",
            "        [0.8513, 0.7775, 0.2946]])\n"
          ]
        }
      ]
    },
    {
      "cell_type": "code",
      "source": [
        "#torch.zeros(size), fill with 0\n",
        "x = torch.zeros(5, 3)\n",
        "print(x)"
      ],
      "metadata": {
        "id": "_97X7I9m5pp3",
        "outputId": "83b26cb5-c231-4d77-a6af-c5d92bdb2dd7",
        "colab": {
          "base_uri": "https://localhost:8080/"
        }
      },
      "execution_count": 23,
      "outputs": [
        {
          "output_type": "stream",
          "name": "stdout",
          "text": [
            "tensor([[0., 0., 0.],\n",
            "        [0., 0., 0.],\n",
            "        [0., 0., 0.],\n",
            "        [0., 0., 0.],\n",
            "        [0., 0., 0.]])\n"
          ]
        }
      ]
    },
    {
      "cell_type": "code",
      "source": [
        "#torch.ones(size), fill with 1\n",
        "x = torch.ones(2, 3)\n",
        "print(x)"
      ],
      "metadata": {
        "id": "B_vmM9fl7DrD",
        "outputId": "62bc0cf0-9591-46a2-cad6-9a6808e88e04",
        "colab": {
          "base_uri": "https://localhost:8080/"
        }
      },
      "execution_count": 24,
      "outputs": [
        {
          "output_type": "stream",
          "name": "stdout",
          "text": [
            "tensor([[1., 1., 1.],\n",
            "        [1., 1., 1.]])\n"
          ]
        }
      ]
    },
    {
      "cell_type": "code",
      "source": [
        "# check data type\n",
        "print(x.dtype)"
      ],
      "metadata": {
        "colab": {
          "base_uri": "https://localhost:8080/"
        },
        "id": "7PHbaw_62dri",
        "outputId": "aa5f9bfb-f4c2-4e69-ef56-4aa361552ebf"
      },
      "execution_count": 25,
      "outputs": [
        {
          "output_type": "stream",
          "name": "stdout",
          "text": [
            "torch.float32\n"
          ]
        }
      ]
    },
    {
      "cell_type": "code",
      "source": [
        "# specify types, float32 default\n",
        "x = torch.zeros(5, 3, dtype=torch.int)\n",
        "print(x.dtype)"
      ],
      "metadata": {
        "id": "Hc3qfv1k8dcD",
        "outputId": "163ad09d-d462-4931-c71d-cdd6263d3dcd",
        "colab": {
          "base_uri": "https://localhost:8080/"
        }
      },
      "execution_count": 26,
      "outputs": [
        {
          "output_type": "stream",
          "name": "stdout",
          "text": [
            "torch.int32\n"
          ]
        }
      ]
    },
    {
      "cell_type": "code",
      "source": [
        "# check size\n",
        "print(x.size())"
      ],
      "metadata": {
        "id": "g8OYDUfz9Db1",
        "colab": {
          "base_uri": "https://localhost:8080/"
        },
        "outputId": "e4a165a3-5d98-47bd-aaa6-10cb0a9c7d41"
      },
      "execution_count": 27,
      "outputs": [
        {
          "output_type": "stream",
          "name": "stdout",
          "text": [
            "torch.Size([5, 3])\n"
          ]
        }
      ]
    },
    {
      "cell_type": "code",
      "source": [
        "# construct from data\n",
        "x =  torch.tensor([5.5, 3])\n",
        "print(x)"
      ],
      "metadata": {
        "colab": {
          "base_uri": "https://localhost:8080/"
        },
        "id": "2ean7-9rA5up",
        "outputId": "8b4490f0-68d5-475d-f678-9e999c9fe3d7"
      },
      "execution_count": 28,
      "outputs": [
        {
          "output_type": "stream",
          "name": "stdout",
          "text": [
            "tensor([5.5000, 3.0000])\n"
          ]
        }
      ]
    },
    {
      "cell_type": "code",
      "source": [
        "x = torch.ones(5, requires_grad=True)\n",
        "print(x)"
      ],
      "metadata": {
        "id": "tP5x8Fkq8zAy",
        "colab": {
          "base_uri": "https://localhost:8080/"
        },
        "outputId": "6154fd93-fa16-45d4-af34-a1ffba98f999"
      },
      "execution_count": 29,
      "outputs": [
        {
          "output_type": "stream",
          "name": "stdout",
          "text": [
            "tensor([1., 1., 1., 1., 1.], requires_grad=True)\n"
          ]
        }
      ]
    },
    {
      "cell_type": "markdown",
      "source": [
        "## Operations on Tensors"
      ],
      "metadata": {
        "id": "4B6DnllJ_L8T"
      }
    },
    {
      "cell_type": "code",
      "source": [
        "y = torch.rand(2, 2)\n",
        "x = torch.rand(2, 2)\n",
        "print(y)\n",
        "print(x)\n"
      ],
      "metadata": {
        "colab": {
          "base_uri": "https://localhost:8080/"
        },
        "id": "cjRL9UCP_TE6",
        "outputId": "2296c1d4-2d78-4a00-d972-c064d771ed6e"
      },
      "execution_count": 30,
      "outputs": [
        {
          "output_type": "stream",
          "name": "stdout",
          "text": [
            "tensor([[0.1153, 0.0792],\n",
            "        [0.8690, 0.2238]])\n",
            "tensor([[0.8583, 0.8356],\n",
            "        [0.0665, 0.1346]])\n"
          ]
        }
      ]
    },
    {
      "cell_type": "code",
      "source": [
        "#elementwise addition\n",
        "z = x + y\n",
        "print(z)\n",
        "# z = torch.add(x,y)"
      ],
      "metadata": {
        "id": "IFAeKzagEfXC",
        "colab": {
          "base_uri": "https://localhost:8080/"
        },
        "outputId": "54e52ac2-0941-42b1-8066-7679e4d9ece7"
      },
      "execution_count": 31,
      "outputs": [
        {
          "output_type": "stream",
          "name": "stdout",
          "text": [
            "tensor([[0.9736, 0.9148],\n",
            "        [0.9355, 0.3584]])\n"
          ]
        }
      ]
    },
    {
      "cell_type": "code",
      "source": [
        "# in place addition, everything with a trailing underscore is an inplace operation\n",
        "# i.e. it will modify the variable\n",
        "y.add_(x)\n",
        "print(y)"
      ],
      "metadata": {
        "colab": {
          "base_uri": "https://localhost:8080/"
        },
        "id": "NdWXYnLwEr8C",
        "outputId": "3985e08c-98f1-46a3-b90d-2ed2c65ef938"
      },
      "execution_count": 32,
      "outputs": [
        {
          "output_type": "stream",
          "name": "stdout",
          "text": [
            "tensor([[0.9736, 0.9148],\n",
            "        [0.9355, 0.3584]])\n"
          ]
        }
      ]
    },
    {
      "cell_type": "code",
      "source": [
        "# subtraction\n",
        "z = x - y\n",
        "print(z)\n",
        "# z = torch.sub(x,y)"
      ],
      "metadata": {
        "colab": {
          "base_uri": "https://localhost:8080/"
        },
        "id": "zaqQxNJWTGft",
        "outputId": "4f5c4669-894b-4086-888c-77f7de2b4e1b"
      },
      "execution_count": 33,
      "outputs": [
        {
          "output_type": "stream",
          "name": "stdout",
          "text": [
            "tensor([[-0.1153, -0.0792],\n",
            "        [-0.8690, -0.2238]])\n"
          ]
        }
      ]
    },
    {
      "cell_type": "code",
      "source": [
        "# multiplication\n",
        "z = x * y\n",
        "print(z)\n",
        "# z = torch.mul(x,y)"
      ],
      "metadata": {
        "colab": {
          "base_uri": "https://localhost:8080/"
        },
        "id": "u3jca0sDUjpZ",
        "outputId": "253df173-3241-426f-d965-4aff64d053aa"
      },
      "execution_count": 34,
      "outputs": [
        {
          "output_type": "stream",
          "name": "stdout",
          "text": [
            "tensor([[0.8356, 0.7645],\n",
            "        [0.0623, 0.0482]])\n"
          ]
        }
      ]
    },
    {
      "cell_type": "code",
      "source": [
        "# in place\n",
        "y.mul_(x)\n",
        "print(y)"
      ],
      "metadata": {
        "colab": {
          "base_uri": "https://localhost:8080/"
        },
        "id": "Ymvp9TUqa9uN",
        "outputId": "fc1719ab-7bf1-4943-877e-c2a2e1ed7ab9"
      },
      "execution_count": 35,
      "outputs": [
        {
          "output_type": "stream",
          "name": "stdout",
          "text": [
            "tensor([[0.8356, 0.7645],\n",
            "        [0.0623, 0.0482]])\n"
          ]
        }
      ]
    },
    {
      "cell_type": "code",
      "source": [
        "# division\n",
        "z = x / y\n",
        "z = torch.div(x,y)"
      ],
      "metadata": {
        "id": "9xt79PboWb9j"
      },
      "execution_count": 36,
      "outputs": []
    },
    {
      "cell_type": "markdown",
      "source": [
        "## Slicing"
      ],
      "metadata": {
        "id": "H--G_JUrDGRr"
      }
    },
    {
      "cell_type": "code",
      "source": [
        "x = torch.rand(5,3)\n",
        "print(x)"
      ],
      "metadata": {
        "id": "VwivyorkDJcg",
        "colab": {
          "base_uri": "https://localhost:8080/"
        },
        "outputId": "1dfe4bde-cc02-493c-b726-0ec05258dc76"
      },
      "execution_count": 37,
      "outputs": [
        {
          "output_type": "stream",
          "name": "stdout",
          "text": [
            "tensor([[0.8567, 0.6237, 0.1442],\n",
            "        [0.1731, 0.4397, 0.4046],\n",
            "        [0.4769, 0.2214, 0.5187],\n",
            "        [0.6428, 0.3954, 0.5433],\n",
            "        [0.9198, 0.2937, 0.3396]])\n"
          ]
        }
      ]
    },
    {
      "cell_type": "code",
      "source": [
        "print(x[:, 0]) # all rows, column 0"
      ],
      "metadata": {
        "colab": {
          "base_uri": "https://localhost:8080/"
        },
        "id": "vXyPI0R2f3fW",
        "outputId": "75371a30-9cca-465c-cd8e-2eaab002f488"
      },
      "execution_count": 38,
      "outputs": [
        {
          "output_type": "stream",
          "name": "stdout",
          "text": [
            "tensor([0.8567, 0.1731, 0.4769, 0.6428, 0.9198])\n"
          ]
        }
      ]
    },
    {
      "cell_type": "code",
      "source": [
        "print(x[1, :]) # row 1, all columns"
      ],
      "metadata": {
        "colab": {
          "base_uri": "https://localhost:8080/"
        },
        "id": "LggZVzxEhg5e",
        "outputId": "07431768-0900-449d-f166-ba3a0d911916"
      },
      "execution_count": 39,
      "outputs": [
        {
          "output_type": "stream",
          "name": "stdout",
          "text": [
            "tensor([0.1731, 0.4397, 0.4046])\n"
          ]
        }
      ]
    },
    {
      "cell_type": "code",
      "source": [
        "print(x[1, 1]) # element at 1, 1"
      ],
      "metadata": {
        "colab": {
          "base_uri": "https://localhost:8080/"
        },
        "id": "Tvn2sRlmlAu0",
        "outputId": "b4784093-2755-4f6b-90de-176f144a0033"
      },
      "execution_count": 40,
      "outputs": [
        {
          "output_type": "stream",
          "name": "stdout",
          "text": [
            "tensor(0.4397)\n"
          ]
        }
      ]
    },
    {
      "cell_type": "code",
      "source": [
        "# Get the actual value if only 1 element in your tensor\n",
        "print(x[1,1].item())"
      ],
      "metadata": {
        "colab": {
          "base_uri": "https://localhost:8080/"
        },
        "id": "8Yyu938FldxS",
        "outputId": "96453715-e6f9-4171-d98d-85a6b74b9d36"
      },
      "execution_count": 41,
      "outputs": [
        {
          "output_type": "stream",
          "name": "stdout",
          "text": [
            "0.4396858215332031\n"
          ]
        }
      ]
    },
    {
      "cell_type": "markdown",
      "source": [
        "## Reshape with `torch.view()`"
      ],
      "metadata": {
        "id": "oN9qhTqBT6_o"
      }
    },
    {
      "cell_type": "code",
      "source": [
        "x = torch.rand(4, 4)\n",
        "print(x)"
      ],
      "metadata": {
        "colab": {
          "base_uri": "https://localhost:8080/"
        },
        "id": "SMzIC-T1pZkK",
        "outputId": "b7468796-49e8-4460-ab72-2b51d67726c1"
      },
      "execution_count": 42,
      "outputs": [
        {
          "output_type": "stream",
          "name": "stdout",
          "text": [
            "tensor([[0.7141, 0.0324, 0.4267, 0.3590],\n",
            "        [0.6224, 0.2767, 0.5818, 0.4722],\n",
            "        [0.3127, 0.5482, 0.0659, 0.2140],\n",
            "        [0.9149, 0.1135, 0.9215, 0.3505]])\n"
          ]
        }
      ]
    },
    {
      "cell_type": "code",
      "source": [
        "y = x.view(16)\n",
        "print(y)"
      ],
      "metadata": {
        "colab": {
          "base_uri": "https://localhost:8080/"
        },
        "id": "4jRJMhlwpLff",
        "outputId": "7bb3f314-73d8-4c64-8d09-62d2af0b593f"
      },
      "execution_count": 43,
      "outputs": [
        {
          "output_type": "stream",
          "name": "stdout",
          "text": [
            "tensor([0.7141, 0.0324, 0.4267, 0.3590, 0.6224, 0.2767, 0.5818, 0.4722, 0.3127,\n",
            "        0.5482, 0.0659, 0.2140, 0.9149, 0.1135, 0.9215, 0.3505])\n"
          ]
        }
      ]
    },
    {
      "cell_type": "code",
      "source": [
        "z = x.view(-1, 8) # the size -1 is inferred from other dimensions\n",
        "# if -1 it pytorch will automatically determine the necessary size\n",
        "print(z.size())"
      ],
      "metadata": {
        "colab": {
          "base_uri": "https://localhost:8080/"
        },
        "id": "x5fRKldBqSA-",
        "outputId": "dfed872c-748e-43ed-80b4-5d7502320772"
      },
      "execution_count": 44,
      "outputs": [
        {
          "output_type": "stream",
          "name": "stdout",
          "text": [
            "torch.Size([2, 8])\n"
          ]
        }
      ]
    },
    {
      "cell_type": "markdown",
      "source": [
        "## Numpy\n",
        "Converting a Torch Tensor to a NumPy array and vice versa is very easy"
      ],
      "metadata": {
        "id": "L5g_YGREFPGd"
      }
    },
    {
      "cell_type": "markdown",
      "source": [
        "### torch to numpy with `.numpy()`"
      ],
      "metadata": {
        "id": "XSAi0SMOH6MR"
      }
    },
    {
      "cell_type": "code",
      "source": [
        "import numpy as np\n",
        "a = torch.ones(5)\n",
        "print(a)"
      ],
      "metadata": {
        "colab": {
          "base_uri": "https://localhost:8080/"
        },
        "id": "RSVh9bK6Ma6J",
        "outputId": "601023e9-3556-4634-9807-24144b49c73f"
      },
      "execution_count": 45,
      "outputs": [
        {
          "output_type": "stream",
          "name": "stdout",
          "text": [
            "tensor([1., 1., 1., 1., 1.])\n"
          ]
        }
      ]
    },
    {
      "cell_type": "code",
      "source": [
        "b = a.numpy()\n",
        "print(b)\n",
        "print(type(b))"
      ],
      "metadata": {
        "colab": {
          "base_uri": "https://localhost:8080/"
        },
        "id": "Qdb09fo3uwHf",
        "outputId": "f5c159ae-12ed-47ea-9c61-4df0eb7057e6"
      },
      "execution_count": 46,
      "outputs": [
        {
          "output_type": "stream",
          "name": "stdout",
          "text": [
            "[1. 1. 1. 1. 1.]\n",
            "<class 'numpy.ndarray'>\n"
          ]
        }
      ]
    },
    {
      "cell_type": "markdown",
      "source": [
        "### Careful!\n",
        "If the Tensor is on the CPU (not the GPU), both objects will share the same memory location, so changing one will also change the other."
      ],
      "metadata": {
        "id": "OIohpC3qM8ix"
      }
    },
    {
      "cell_type": "code",
      "source": [
        "a.add_(1)\n",
        "print(a)\n",
        "print(b)"
      ],
      "metadata": {
        "colab": {
          "base_uri": "https://localhost:8080/"
        },
        "id": "3PMNIzbfNe01",
        "outputId": "e00b9002-ba8e-4f0b-d969-f16a6e1046c2"
      },
      "execution_count": 47,
      "outputs": [
        {
          "output_type": "stream",
          "name": "stdout",
          "text": [
            "tensor([2., 2., 2., 2., 2.])\n",
            "[2. 2. 2. 2. 2.]\n"
          ]
        }
      ]
    },
    {
      "cell_type": "markdown",
      "source": [
        "### numpy to torch with `.from_numpy(x)`"
      ],
      "metadata": {
        "id": "EY-U5ZSyNpnb"
      }
    },
    {
      "cell_type": "code",
      "source": [
        "a = np.ones(5)\n",
        "print(a)"
      ],
      "metadata": {
        "colab": {
          "base_uri": "https://localhost:8080/"
        },
        "id": "qxNoH61dNyR7",
        "outputId": "e24438d8-fd6d-4992-fabd-f4bd34e7d548"
      },
      "execution_count": 48,
      "outputs": [
        {
          "output_type": "stream",
          "name": "stdout",
          "text": [
            "[1. 1. 1. 1. 1.]\n"
          ]
        }
      ]
    },
    {
      "cell_type": "code",
      "source": [
        "b = torch.from_numpy(a)\n",
        "print(b)"
      ],
      "metadata": {
        "colab": {
          "base_uri": "https://localhost:8080/"
        },
        "id": "BE1c9s08yFDq",
        "outputId": "e271bcff-0bc6-4b71-e5e7-008729a525a3"
      },
      "execution_count": 49,
      "outputs": [
        {
          "output_type": "stream",
          "name": "stdout",
          "text": [
            "tensor([1., 1., 1., 1., 1.], dtype=torch.float64)\n"
          ]
        }
      ]
    },
    {
      "cell_type": "markdown",
      "source": [
        "### Again be careful when modifying"
      ],
      "metadata": {
        "id": "6TS4fR0MOIeI"
      }
    },
    {
      "cell_type": "code",
      "source": [
        "a += 1\n",
        "print(a)\n",
        "print(b)"
      ],
      "metadata": {
        "colab": {
          "base_uri": "https://localhost:8080/"
        },
        "id": "qOhee_SxOQ3N",
        "outputId": "9c01db6c-9cb6-4a75-fc85-2282f0dab62c"
      },
      "execution_count": 50,
      "outputs": [
        {
          "output_type": "stream",
          "name": "stdout",
          "text": [
            "[2. 2. 2. 2. 2.]\n",
            "tensor([2., 2., 2., 2., 2.], dtype=torch.float64)\n"
          ]
        }
      ]
    },
    {
      "cell_type": "markdown",
      "source": [
        "## Move Tensors to GPU\n",
        "By default all tensors are created on the CPU, but you can also move them to the GPU(only if it's available)"
      ],
      "metadata": {
        "id": "b-lsGMBcOrwA"
      }
    },
    {
      "cell_type": "code",
      "source": [
        "if torch.cuda.is_available():\n",
        "  device = torch.device(\"cuda\")         # a CUDA device object\n",
        "  x = torch.ones(5, device=device)\n",
        "  y = torch.ones(5)\n",
        "  y = y.to(device)\n",
        "  z = x + y\n",
        "  # z.numpy()  ##error\n",
        "  z = z.to(\"cpu\")"
      ],
      "metadata": {
        "id": "mpJN2n0BPYiq"
      },
      "execution_count": 51,
      "outputs": []
    },
    {
      "cell_type": "markdown",
      "source": [
        "## argument `requires_grad`\n",
        "This will tell PyTorch that it will need to calculate the gradients for this tensor later in your optimization steps, i.e., this is a variable in your model that you want to optimize. This will be very important later in our training!\n",
        "\n"
      ],
      "metadata": {
        "id": "Rlbyccm16pSb"
      }
    },
    {
      "cell_type": "code",
      "source": [
        "x = torch.ones(5, requires_grad=True)\n",
        "print(x)"
      ],
      "metadata": {
        "colab": {
          "base_uri": "https://localhost:8080/"
        },
        "outputId": "6154fd93-fa16-45d4-af34-a1ffba98f999",
        "id": "Ec-s_eyVDPgr"
      },
      "execution_count": null,
      "outputs": [
        {
          "output_type": "stream",
          "name": "stdout",
          "text": [
            "tensor([1., 1., 1., 1., 1.], requires_grad=True)\n"
          ]
        }
      ]
    }
  ]
}