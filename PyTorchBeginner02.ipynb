{
  "nbformat": 4,
  "nbformat_minor": 0,
  "metadata": {
    "colab": {
      "provenance": [],
      "toc_visible": true,
      "authorship_tag": "ABX9TyNPsxLfZLrHUIOw+rHVPdqs",
      "include_colab_link": true
    },
    "kernelspec": {
      "name": "python3",
      "display_name": "Python 3"
    },
    "accelerator": "GPU",
    "gpuClass": "standard"
  },
  "cells": [
    {
      "cell_type": "markdown",
      "metadata": {
        "id": "view-in-github",
        "colab_type": "text"
      },
      "source": [
        "<a href=\"https://colab.research.google.com/github/OniOnizukazuka/PyTorchBeginner/blob/main/PyTorchBeginner02.ipynb\" target=\"_parent\"><img src=\"https://colab.research.google.com/assets/colab-badge.svg\" alt=\"Open In Colab\"/></a>"
      ]
    },
    {
      "cell_type": "markdown",
      "source": [
        "https://www.python-engineer.com/courses/pytorchbeginner/01-installation/"
      ],
      "metadata": {
        "id": "udAbLIOJ685a"
      }
    },
    {
      "cell_type": "markdown",
      "source": [
        "# **02 Tensor Basics**"
      ],
      "metadata": {
        "id": "kHK80XSp6QZr"
      }
    },
    {
      "cell_type": "markdown",
      "source": [
        "## Tensor"
      ],
      "metadata": {
        "id": "EeBbayXEzgk7"
      }
    },
    {
      "cell_type": "code",
      "metadata": {
        "id": "0f5qOaxWP0Q_",
        "colab": {
          "base_uri": "https://localhost:8080/"
        },
        "outputId": "f2cb9860-2c2f-49a0-d3e3-5ada90ab7590"
      },
      "source": [
        "import torch\n",
        "\n",
        "# torch.empty(size): uninitiallized\n",
        "x = torch.empty(1) #scalar\n",
        "print(x)\n",
        "x = torch.empty(3) #vector,1D\n",
        "print(x)\n",
        "x = torch.empty(2,3) #matrix,2D\n",
        "print(x)\n",
        "x = torch.empty(2,2,3) #tensor,3Dimensions\n",
        "print(x)\n",
        "x = torch.empty(2,2,2,3) #tensor,4Dimensions\n",
        "print(x)"
      ],
      "execution_count": null,
      "outputs": [
        {
          "output_type": "stream",
          "name": "stdout",
          "text": [
            "tensor([84993024.])\n",
            "tensor([3.3190e-34, 0.0000e+00, 3.3216e-34])\n",
            "tensor([[3.3266e-34, 0.0000e+00, 3.3264e-34],\n",
            "        [0.0000e+00, 0.0000e+00, 0.0000e+00]])\n",
            "tensor([[[3.3262e-34, 0.0000e+00, 3.3262e-34],\n",
            "         [0.0000e+00, 8.9683e-44, 0.0000e+00]],\n",
            "\n",
            "        [[1.1210e-43, 0.0000e+00, 3.3266e-34],\n",
            "         [0.0000e+00, 0.0000e+00, 0.0000e+00]]])\n",
            "tensor([[[[8.4994e+07, 4.5859e-41, 3.3261e-34],\n",
            "          [0.0000e+00, 1.4013e-45, 0.0000e+00]],\n",
            "\n",
            "         [[0.0000e+00, 0.0000e+00, 0.0000e+00],\n",
            "          [0.0000e+00, 0.0000e+00, 0.0000e+00]]],\n",
            "\n",
            "\n",
            "        [[[8.9683e-44, 0.0000e+00, 2.9287e-43],\n",
            "          [0.0000e+00, 3.2855e-34, 0.0000e+00]],\n",
            "\n",
            "         [[3.0276e-34, 0.0000e+00, 1.4013e-45],\n",
            "          [0.0000e+00, 3.0980e-34, 0.0000e+00]]]])\n"
          ]
        }
      ]
    },
    {
      "cell_type": "code",
      "source": [
        "# torch.rand(size): random numbers [0, 1]\n",
        "x = torch.rand(5, 3)\n",
        "print(x)\n",
        "\n",
        "#torch.zeros(size), fill with 0\n",
        "#torch.ones(size), fill with 1\n",
        "x = torch.zeros(5, 3)\n",
        "print(x)\n",
        "x = torch.ones(2, 3)\n",
        "print(x)"
      ],
      "metadata": {
        "colab": {
          "base_uri": "https://localhost:8080/"
        },
        "id": "WTMzY7ym1GAS",
        "outputId": "c6ffc00f-0ba5-407f-ef49-934045677056"
      },
      "execution_count": null,
      "outputs": [
        {
          "output_type": "stream",
          "name": "stdout",
          "text": [
            "tensor([[0.8264, 0.8876, 0.3951],\n",
            "        [0.4613, 0.6836, 0.6456],\n",
            "        [0.3838, 0.3356, 0.7267],\n",
            "        [0.6340, 0.7510, 0.5757],\n",
            "        [0.5488, 0.0882, 0.2959]])\n",
            "tensor([[0., 0., 0.],\n",
            "        [0., 0., 0.],\n",
            "        [0., 0., 0.],\n",
            "        [0., 0., 0.],\n",
            "        [0., 0., 0.]])\n",
            "tensor([[1., 1., 1.],\n",
            "        [1., 1., 1.]])\n"
          ]
        }
      ]
    },
    {
      "cell_type": "code",
      "source": [
        "# check size\n",
        "print(x.size())\n",
        "\n",
        "# check data type\n",
        "print(x.dtype)\n",
        "\n",
        "# specify types, float32 default\n",
        "x = torch.zeros(5, 3, dtype=torch.float16)\n",
        "print(x)\n",
        "\n",
        "# construct from data\n",
        "x =  torch.tensor([5.5, 3])\n",
        "print(x.size())"
      ],
      "metadata": {
        "colab": {
          "base_uri": "https://localhost:8080/"
        },
        "id": "7PHbaw_62dri",
        "outputId": "38be8292-4162-4c9d-e9f1-a1c26a8ac47d"
      },
      "execution_count": null,
      "outputs": [
        {
          "output_type": "stream",
          "name": "stdout",
          "text": [
            "torch.Size([2, 3])\n",
            "torch.float32\n",
            "tensor([[0., 0., 0.],\n",
            "        [0., 0., 0.],\n",
            "        [0., 0., 0.],\n",
            "        [0., 0., 0.],\n",
            "        [0., 0., 0.]], dtype=torch.float16)\n",
            "torch.Size([2])\n"
          ]
        }
      ]
    },
    {
      "cell_type": "markdown",
      "source": [
        "## argument `requires_grad`\n",
        "This will tell PyTorch that it will need to calculate the gradients for this tensor later in your optimization steps, i.e., this is a variable in your model that you want to optimize. This will be very important later in our training!\n",
        "\n",
        "[grad(勾配)について](https://mathwords.net/graddivrot)<br>\n",
        "[requires_grad](https://take-tech-engineer.com/pytorch-requires-grad/)"
      ],
      "metadata": {
        "id": "Rlbyccm16pSb"
      }
    },
    {
      "cell_type": "code",
      "source": [
        "x = torch.tensor([5.5, 3], requires_grad=True)"
      ],
      "metadata": {
        "id": "tP5x8Fkq8zAy"
      },
      "execution_count": null,
      "outputs": []
    },
    {
      "cell_type": "markdown",
      "source": [
        "## Operations on Tensors"
      ],
      "metadata": {
        "id": "4B6DnllJ_L8T"
      }
    },
    {
      "cell_type": "code",
      "source": [
        "y = torch.rand(2, 2)\n",
        "x = torch.rand(2, 2)\n",
        "print(y)\n",
        "print(x)\n",
        "#elementwise addition\n",
        "z = x + y\n",
        "print(z)\n",
        "# torch.add(x,y)\n",
        "\n",
        "# in place addition, everything with a trailing underscore is an inplace operation\n",
        "# i.e. it will modify the variable\n",
        "# y.add_(x)\n",
        "\n",
        "# subtraction\n",
        "z = x - y\n",
        "z = torch.sub(x,y)\n",
        "print(z)\n",
        "\n",
        "# multiplication\n",
        "z = x * y\n",
        "z = torch.mul(x,y)\n",
        "\n",
        "# division\n",
        "z = x / y\n",
        "z = torch.div(x,y)"
      ],
      "metadata": {
        "colab": {
          "base_uri": "https://localhost:8080/"
        },
        "id": "cjRL9UCP_TE6",
        "outputId": "bc583871-6736-448e-d3c5-fdfee886b450"
      },
      "execution_count": null,
      "outputs": [
        {
          "output_type": "stream",
          "name": "stdout",
          "text": [
            "tensor([[0.1034, 0.1426],\n",
            "        [0.6794, 0.2292]])\n",
            "tensor([[0.2736, 0.3396],\n",
            "        [0.0109, 0.1587]])\n",
            "tensor([[0.3769, 0.4822],\n",
            "        [0.6903, 0.3878]])\n",
            "tensor([[ 0.1702,  0.1970],\n",
            "        [-0.6685, -0.0705]])\n"
          ]
        }
      ]
    },
    {
      "cell_type": "markdown",
      "source": [
        "## Slicing"
      ],
      "metadata": {
        "id": "H--G_JUrDGRr"
      }
    },
    {
      "cell_type": "code",
      "source": [
        "x = torch.rand(5,3)\n",
        "print(x)\n",
        "print(x[:, 0]) # all rows, column 0\n",
        "print(x[1, :]) # row 1, all columns\n",
        "print(x[1, 1]) # element at 1, 1\n",
        "\n",
        "# Get the actual value if only 1 element in your tensor\n",
        "print(x[1,1].item())"
      ],
      "metadata": {
        "id": "VwivyorkDJcg",
        "colab": {
          "base_uri": "https://localhost:8080/"
        },
        "outputId": "4b323a81-88b7-438e-a9a6-38a8cc59c0fd"
      },
      "execution_count": null,
      "outputs": [
        {
          "output_type": "stream",
          "name": "stdout",
          "text": [
            "tensor([[0.8291, 0.1977, 0.6505],\n",
            "        [0.6647, 0.1387, 0.1594],\n",
            "        [0.9829, 0.6869, 0.8140],\n",
            "        [0.4897, 0.6545, 0.3775],\n",
            "        [0.8679, 0.9331, 0.7910]])\n",
            "tensor([0.8291, 0.6647, 0.9829, 0.4897, 0.8679])\n",
            "tensor([0.6647, 0.1387, 0.1594])\n",
            "tensor(0.1387)\n",
            "0.13866758346557617\n"
          ]
        }
      ]
    },
    {
      "cell_type": "markdown",
      "source": [
        "## Reshape with `torch.view()`"
      ],
      "metadata": {
        "id": "oN9qhTqBT6_o"
      }
    },
    {
      "cell_type": "code",
      "source": [
        "x = torch.randn(4, 4)\n",
        "y = x.view(16)\n",
        "z = x.view(-1, 8) # the size -1 is inferred from other dimensions\n",
        "# if -1 it pytorch will automatically determine the necessary size\n",
        "print(x.size(), y.size(), z.size())"
      ],
      "metadata": {
        "colab": {
          "base_uri": "https://localhost:8080/"
        },
        "id": "dOp4TpfRZmdI",
        "outputId": "2f5eebc3-193f-477e-f735-c096ab79f12d"
      },
      "execution_count": null,
      "outputs": [
        {
          "output_type": "stream",
          "name": "stdout",
          "text": [
            "torch.Size([4, 4]) torch.Size([16]) torch.Size([2, 8])\n"
          ]
        }
      ]
    },
    {
      "cell_type": "markdown",
      "source": [
        "## Numpy\n",
        "Converting a Torch Tensor to a NumPy array and vice versa is very easy"
      ],
      "metadata": {
        "id": "L5g_YGREFPGd"
      }
    },
    {
      "cell_type": "markdown",
      "source": [
        "### torch to numpy with `.numpy()`"
      ],
      "metadata": {
        "id": "XSAi0SMOH6MR"
      }
    },
    {
      "cell_type": "code",
      "source": [
        "a = torch.ones(5)\n",
        "print(a)\n",
        "\n",
        "b = a.numpy()\n",
        "print(b)\n",
        "print(type(b))"
      ],
      "metadata": {
        "colab": {
          "base_uri": "https://localhost:8080/"
        },
        "id": "RSVh9bK6Ma6J",
        "outputId": "cd3a2aa0-31b4-439d-ba69-3c8b48ee6691"
      },
      "execution_count": null,
      "outputs": [
        {
          "output_type": "stream",
          "name": "stdout",
          "text": [
            "tensor([1., 1., 1., 1., 1.])\n",
            "[1. 1. 1. 1. 1.]\n",
            "<class 'numpy.ndarray'>\n"
          ]
        }
      ]
    },
    {
      "cell_type": "markdown",
      "source": [
        "### Careful!\n",
        "If the Tensor is on the CPU (not the GPU), both objects will share the same memory location, so changing one will also change the other."
      ],
      "metadata": {
        "id": "OIohpC3qM8ix"
      }
    },
    {
      "cell_type": "code",
      "source": [
        "a.add_(1)\n",
        "print(a)\n",
        "print(b)"
      ],
      "metadata": {
        "colab": {
          "base_uri": "https://localhost:8080/"
        },
        "id": "3PMNIzbfNe01",
        "outputId": "c2fa3498-d8dc-4530-98d2-e8285031a36a"
      },
      "execution_count": null,
      "outputs": [
        {
          "output_type": "stream",
          "name": "stdout",
          "text": [
            "tensor([2., 2., 2., 2., 2.])\n",
            "[2. 2. 2. 2. 2.]\n"
          ]
        }
      ]
    },
    {
      "cell_type": "markdown",
      "source": [
        "### numpy to torch with `.from_numpy(x)`"
      ],
      "metadata": {
        "id": "EY-U5ZSyNpnb"
      }
    },
    {
      "cell_type": "code",
      "source": [
        "import numpy as np\n",
        "a = np.ones(5)\n",
        "b = torch.from_numpy(a)\n",
        "print(a)\n",
        "print(b)"
      ],
      "metadata": {
        "colab": {
          "base_uri": "https://localhost:8080/"
        },
        "id": "qxNoH61dNyR7",
        "outputId": "74d71c52-557a-42fc-c85b-9dc679e9db8f"
      },
      "execution_count": null,
      "outputs": [
        {
          "output_type": "stream",
          "name": "stdout",
          "text": [
            "[1. 1. 1. 1. 1.]\n",
            "tensor([1., 1., 1., 1., 1.], dtype=torch.float64)\n"
          ]
        }
      ]
    },
    {
      "cell_type": "markdown",
      "source": [
        "### Again be careful when modifying"
      ],
      "metadata": {
        "id": "6TS4fR0MOIeI"
      }
    },
    {
      "cell_type": "code",
      "source": [
        "a += 1\n",
        "print(a)\n",
        "print(b)"
      ],
      "metadata": {
        "colab": {
          "base_uri": "https://localhost:8080/"
        },
        "id": "qOhee_SxOQ3N",
        "outputId": "b6d7a6a7-1abb-4653-ebb3-441c2d28c418"
      },
      "execution_count": null,
      "outputs": [
        {
          "output_type": "stream",
          "name": "stdout",
          "text": [
            "[2. 2. 2. 2. 2.]\n",
            "tensor([2., 2., 2., 2., 2.], dtype=torch.float64)\n"
          ]
        }
      ]
    },
    {
      "cell_type": "markdown",
      "source": [
        "## Move Tensors to GPU\n",
        "By default all tensors are created on the CPU, but you can also move them to the GPU(only if it's available)"
      ],
      "metadata": {
        "id": "b-lsGMBcOrwA"
      }
    },
    {
      "cell_type": "code",
      "source": [
        "if torch.cuda.is_available():\n",
        "  device = torch.device(\"cuda\")         # a CUDA device object\n",
        "  y = torch.ones_like(x, device=device) # directly create a tensor on GPU\n",
        "  x = x.to(device)                      # or just use strings  \" .to(\"cuda\") \"\n",
        "  z = x + y\n",
        "  # z = z.numpy() # not possible because numpy cannot handle GPU tensors\n",
        "  # move to CPU again\n",
        "  z.to(\"cpu\")     # \" .to \" can also change dtype together!\n",
        "  # z = z.numpy()"
      ],
      "metadata": {
        "id": "mpJN2n0BPYiq"
      },
      "execution_count": null,
      "outputs": []
    }
  ]
}