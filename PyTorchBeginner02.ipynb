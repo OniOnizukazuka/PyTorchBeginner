{
  "nbformat": 4,
  "nbformat_minor": 0,
  "metadata": {
    "colab": {
      "provenance": [],
      "include_colab_link": true
    },
    "kernelspec": {
      "name": "python3",
      "display_name": "Python 3"
    },
    "accelerator": "GPU",
    "gpuClass": "standard"
  },
  "cells": [
    {
      "cell_type": "markdown",
      "metadata": {
        "id": "view-in-github",
        "colab_type": "text"
      },
      "source": [
        "<a href=\"https://colab.research.google.com/github/OniOnizukazuka/PyTorchBeginner/blob/main/PyTorchBeginner02.ipynb\" target=\"_parent\"><img src=\"https://colab.research.google.com/assets/colab-badge.svg\" alt=\"Open In Colab\"/></a>"
      ]
    },
    {
      "cell_type": "markdown",
      "source": [
        "[Tensor Basics - PyTorch Beginner 02](https://www.python-engineer.com/courses/pytorchbeginner/01-installation/)"
      ],
      "metadata": {
        "id": "udAbLIOJ685a"
      }
    },
    {
      "cell_type": "markdown",
      "source": [],
      "metadata": {
        "id": "-SAN_ems__wT"
      }
    },
    {
      "cell_type": "markdown",
      "source": [
        "# **02 Tensor Basics**\n",
        "This part covers the basics of Tensors and Tensor operations in PyTorch. Learn also how to convert from numpy data to PyTorch tensors and vice versa!"
      ],
      "metadata": {
        "id": "kHK80XSp6QZr"
      }
    },
    {
      "cell_type": "markdown",
      "source": [
        "## Tensor\n",
        "Everything in PyTorch is based on Tesor operations. A tensor can have different dimensions, so it can be 1d(scalar), 2d(vector), or even 3d(matrix) and higher. Let's have a look how we can create a tensor in PyTorch."
      ],
      "metadata": {
        "id": "EeBbayXEzgk7"
      }
    },
    {
      "cell_type": "code",
      "metadata": {
        "id": "0f5qOaxWP0Q_",
        "colab": {
          "base_uri": "https://localhost:8080/"
        },
        "outputId": "24014b5a-f75d-4a2b-bd9b-138cfa131e79"
      },
      "source": [
        "import torch\n",
        "\n",
        "x = torch.empty(1) #scalar\n",
        "print(x)"
      ],
      "execution_count": 3,
      "outputs": [
        {
          "output_type": "stream",
          "name": "stdout",
          "text": [
            "tensor([234801.7500])\n"
          ]
        }
      ]
    },
    {
      "cell_type": "code",
      "source": [
        "x = torch.empty(3) #vector,1D\n",
        "print(x)"
      ],
      "metadata": {
        "id": "xL8_0Oa31DZU",
        "outputId": "7a05ee05-46f4-404d-be31-81ddd77f48b9",
        "colab": {
          "base_uri": "https://localhost:8080/"
        }
      },
      "execution_count": 4,
      "outputs": [
        {
          "output_type": "stream",
          "name": "stdout",
          "text": [
            "tensor([5.2135e-35, 0.0000e+00, 5.2117e-35])\n"
          ]
        }
      ]
    },
    {
      "cell_type": "code",
      "source": [
        "x = torch.empty(2,3) #matrix,2D\n",
        "print(x)"
      ],
      "metadata": {
        "id": "UPwQUUzQ1KvC",
        "outputId": "567c7441-2156-4616-9f19-717ce5725cde",
        "colab": {
          "base_uri": "https://localhost:8080/"
        }
      },
      "execution_count": 5,
      "outputs": [
        {
          "output_type": "stream",
          "name": "stdout",
          "text": [
            "tensor([[5.2194e-35, 0.0000e+00, 5.2161e-35],\n",
            "        [0.0000e+00, 8.9683e-44, 0.0000e+00]])\n"
          ]
        }
      ]
    },
    {
      "cell_type": "code",
      "source": [
        "x = torch.empty(2,2,3) #tensor,3Dimensions\n",
        "print(x)"
      ],
      "metadata": {
        "id": "g2YtECLs1Nuq",
        "outputId": "eb305a96-f79f-4667-efd1-6fa3af5b9f00",
        "colab": {
          "base_uri": "https://localhost:8080/"
        }
      },
      "execution_count": 6,
      "outputs": [
        {
          "output_type": "stream",
          "name": "stdout",
          "text": [
            "tensor([[[5.2199e-35, 0.0000e+00, 2.3480e+05],\n",
            "         [4.5678e-41, 8.9683e-44, 0.0000e+00]],\n",
            "\n",
            "        [[1.1210e-43, 0.0000e+00, 5.2121e-35],\n",
            "         [0.0000e+00, 1.4013e-45, 0.0000e+00]]])\n"
          ]
        }
      ]
    },
    {
      "cell_type": "code",
      "source": [
        "x = torch.empty(2,2,2,3) #tensor,4Dimensions\n",
        "print(x)"
      ],
      "metadata": {
        "id": "ogY_uvrP1W66",
        "outputId": "b64ca08d-099b-4b0f-8233-499371324ea5",
        "colab": {
          "base_uri": "https://localhost:8080/"
        }
      },
      "execution_count": 7,
      "outputs": [
        {
          "output_type": "stream",
          "name": "stdout",
          "text": [
            "tensor([[[[4.7373e-35, 0.0000e+00, 5.2198e-35],\n",
            "          [0.0000e+00, 7.0976e+22, 2.1715e-18]],\n",
            "\n",
            "         [[4.2330e+21, 1.6534e+19, 1.1625e+27],\n",
            "          [1.4580e-19, 7.1856e+22, 4.3605e+27]]],\n",
            "\n",
            "\n",
            "        [[[1.5766e-19, 7.1856e+22, 1.5835e-43],\n",
            "          [0.0000e+00, 5.2196e-35, 0.0000e+00]],\n",
            "\n",
            "         [[2.3480e+05, 4.5678e-41, 8.2733e+20],\n",
            "          [5.3689e-05, 3.2540e+21, 1.0663e-08]]]])\n"
          ]
        }
      ]
    },
    {
      "cell_type": "code",
      "source": [
        "# torch.rand(size): random numbers [0, 1]\n",
        "x = torch.rand(5, 3)\n",
        "print(x)"
      ],
      "metadata": {
        "colab": {
          "base_uri": "https://localhost:8080/"
        },
        "id": "WTMzY7ym1GAS",
        "outputId": "d03e8657-ac8f-40a9-f5f3-76bb8e292718"
      },
      "execution_count": 8,
      "outputs": [
        {
          "output_type": "stream",
          "name": "stdout",
          "text": [
            "tensor([[0.1658, 0.2767, 0.9383],\n",
            "        [0.7960, 0.9063, 0.7730],\n",
            "        [0.1953, 0.9387, 0.5926],\n",
            "        [0.1870, 0.1636, 0.6602],\n",
            "        [0.1737, 0.9928, 0.3607]])\n"
          ]
        }
      ]
    },
    {
      "cell_type": "code",
      "source": [
        "#torch.zeros(size), fill with 0\n",
        "x = torch.zeros(5, 3)\n",
        "print(x)"
      ],
      "metadata": {
        "id": "_97X7I9m5pp3",
        "outputId": "d242cefa-fd94-49cb-b73d-fbb6696a2034",
        "colab": {
          "base_uri": "https://localhost:8080/"
        }
      },
      "execution_count": 9,
      "outputs": [
        {
          "output_type": "stream",
          "name": "stdout",
          "text": [
            "tensor([[0., 0., 0.],\n",
            "        [0., 0., 0.],\n",
            "        [0., 0., 0.],\n",
            "        [0., 0., 0.],\n",
            "        [0., 0., 0.]])\n"
          ]
        }
      ]
    },
    {
      "cell_type": "code",
      "source": [
        "#torch.ones(size), fill with 1\n",
        "x = torch.ones(2, 3)\n",
        "print(x)"
      ],
      "metadata": {
        "id": "B_vmM9fl7DrD",
        "outputId": "dd8e2448-18fc-47f3-eef9-5f9fe960ee26",
        "colab": {
          "base_uri": "https://localhost:8080/"
        }
      },
      "execution_count": 10,
      "outputs": [
        {
          "output_type": "stream",
          "name": "stdout",
          "text": [
            "tensor([[1., 1., 1.],\n",
            "        [1., 1., 1.]])\n"
          ]
        }
      ]
    },
    {
      "cell_type": "code",
      "source": [
        "# check data type\n",
        "print(x.dtype)"
      ],
      "metadata": {
        "colab": {
          "base_uri": "https://localhost:8080/"
        },
        "id": "7PHbaw_62dri",
        "outputId": "ae6bb172-a0b7-408a-f82c-ec125730f0b8"
      },
      "execution_count": 11,
      "outputs": [
        {
          "output_type": "stream",
          "name": "stdout",
          "text": [
            "torch.float32\n"
          ]
        }
      ]
    },
    {
      "cell_type": "code",
      "source": [
        "# specify types, float32 default\n",
        "x = torch.zeros(5, 3, dtype=torch.int)\n",
        "print(x.dtype)"
      ],
      "metadata": {
        "id": "Hc3qfv1k8dcD",
        "outputId": "e453b55a-7b7e-4b5d-e3e1-d94676dce1b4",
        "colab": {
          "base_uri": "https://localhost:8080/"
        }
      },
      "execution_count": 13,
      "outputs": [
        {
          "output_type": "stream",
          "name": "stdout",
          "text": [
            "torch.int32\n"
          ]
        }
      ]
    },
    {
      "cell_type": "code",
      "source": [
        "# check size\n",
        "print(x.size())"
      ],
      "metadata": {
        "id": "g8OYDUfz9Db1",
        "colab": {
          "base_uri": "https://localhost:8080/"
        },
        "outputId": "29dc4bae-98bb-4b92-bfe7-d4bd8dd6e710"
      },
      "execution_count": 14,
      "outputs": [
        {
          "output_type": "stream",
          "name": "stdout",
          "text": [
            "torch.Size([5, 3])\n"
          ]
        }
      ]
    },
    {
      "cell_type": "code",
      "source": [
        "# construct from data\n",
        "x =  torch.tensor([5.5, 3])\n",
        "print(x)"
      ],
      "metadata": {
        "colab": {
          "base_uri": "https://localhost:8080/"
        },
        "id": "2ean7-9rA5up",
        "outputId": "27997cbc-0aa0-406a-adc3-f79efaa5918b"
      },
      "execution_count": 17,
      "outputs": [
        {
          "output_type": "stream",
          "name": "stdout",
          "text": [
            "tensor([5.5000, 3.0000])\n"
          ]
        }
      ]
    },
    {
      "cell_type": "markdown",
      "source": [
        "## argument `requires_grad`\n",
        "This will tell PyTorch that it will need to calculate the gradients for this tensor later in your optimization steps, i.e., this is a variable in your model that you want to optimize. This will be very important later in our training!\n",
        "\n",
        "[grad(勾配)について](https://mathwords.net/graddivrot)<br>\n",
        "[requires_grad](https://take-tech-engineer.com/pytorch-requires-grad/)"
      ],
      "metadata": {
        "id": "Rlbyccm16pSb"
      }
    },
    {
      "cell_type": "code",
      "source": [
        "x = torch.tensor([5.5, 3], requires_grad=True)"
      ],
      "metadata": {
        "id": "tP5x8Fkq8zAy"
      },
      "execution_count": null,
      "outputs": []
    },
    {
      "cell_type": "markdown",
      "source": [
        "## Operations on Tensors"
      ],
      "metadata": {
        "id": "4B6DnllJ_L8T"
      }
    },
    {
      "cell_type": "code",
      "source": [
        "y = torch.rand(2, 2)\n",
        "x = torch.rand(2, 2)\n",
        "print(y)\n",
        "print(x)\n"
      ],
      "metadata": {
        "colab": {
          "base_uri": "https://localhost:8080/"
        },
        "id": "cjRL9UCP_TE6",
        "outputId": "0d0bc8c7-ffc8-45cd-a983-71041bdb804f"
      },
      "execution_count": 18,
      "outputs": [
        {
          "output_type": "stream",
          "name": "stdout",
          "text": [
            "tensor([[0.2195, 0.7158],\n",
            "        [0.8608, 0.5602]])\n",
            "tensor([[0.9154, 0.9560],\n",
            "        [0.9789, 0.9808]])\n"
          ]
        }
      ]
    },
    {
      "cell_type": "code",
      "source": [
        "#elementwise addition\n",
        "z = x + y\n",
        "print(z)\n",
        "# torch.add(x,y)"
      ],
      "metadata": {
        "id": "IFAeKzagEfXC",
        "colab": {
          "base_uri": "https://localhost:8080/"
        },
        "outputId": "e4e1b6e1-5d40-4fbf-d329-4ad3c7461d37"
      },
      "execution_count": 19,
      "outputs": [
        {
          "output_type": "stream",
          "name": "stdout",
          "text": [
            "tensor([[1.1349, 1.6717],\n",
            "        [1.8398, 1.5410]])\n"
          ]
        }
      ]
    },
    {
      "cell_type": "code",
      "source": [
        "# in place addition, everything with a trailing underscore is an inplace operation\n",
        "# i.e. it will modify the variable\n",
        "# y.add_(x)\n",
        "\n",
        "# subtraction\n",
        "z = x - y\n",
        "z = torch.sub(x,y)\n",
        "print(z)\n",
        "\n",
        "# multiplication\n",
        "z = x * y\n",
        "z = torch.mul(x,y)\n",
        "\n",
        "# division\n",
        "z = x / y\n",
        "z = torch.div(x,y)"
      ],
      "metadata": {
        "id": "NdWXYnLwEr8C"
      },
      "execution_count": null,
      "outputs": []
    },
    {
      "cell_type": "markdown",
      "source": [
        "## Slicing"
      ],
      "metadata": {
        "id": "H--G_JUrDGRr"
      }
    },
    {
      "cell_type": "code",
      "source": [
        "x = torch.rand(5,3)\n",
        "print(x)\n",
        "print(x[:, 0]) # all rows, column 0\n",
        "print(x[1, :]) # row 1, all columns\n",
        "print(x[1, 1]) # element at 1, 1\n",
        "\n",
        "# Get the actual value if only 1 element in your tensor\n",
        "print(x[1,1].item())"
      ],
      "metadata": {
        "id": "VwivyorkDJcg",
        "colab": {
          "base_uri": "https://localhost:8080/"
        },
        "outputId": "4b323a81-88b7-438e-a9a6-38a8cc59c0fd"
      },
      "execution_count": null,
      "outputs": [
        {
          "output_type": "stream",
          "name": "stdout",
          "text": [
            "tensor([[0.8291, 0.1977, 0.6505],\n",
            "        [0.6647, 0.1387, 0.1594],\n",
            "        [0.9829, 0.6869, 0.8140],\n",
            "        [0.4897, 0.6545, 0.3775],\n",
            "        [0.8679, 0.9331, 0.7910]])\n",
            "tensor([0.8291, 0.6647, 0.9829, 0.4897, 0.8679])\n",
            "tensor([0.6647, 0.1387, 0.1594])\n",
            "tensor(0.1387)\n",
            "0.13866758346557617\n"
          ]
        }
      ]
    },
    {
      "cell_type": "markdown",
      "source": [
        "## Reshape with `torch.view()`"
      ],
      "metadata": {
        "id": "oN9qhTqBT6_o"
      }
    },
    {
      "cell_type": "code",
      "source": [
        "x = torch.randn(4, 4)\n",
        "y = x.view(16)\n",
        "z = x.view(-1, 8) # the size -1 is inferred from other dimensions\n",
        "# if -1 it pytorch will automatically determine the necessary size\n",
        "print(x.size(), y.size(), z.size())"
      ],
      "metadata": {
        "colab": {
          "base_uri": "https://localhost:8080/"
        },
        "id": "dOp4TpfRZmdI",
        "outputId": "2f5eebc3-193f-477e-f735-c096ab79f12d"
      },
      "execution_count": null,
      "outputs": [
        {
          "output_type": "stream",
          "name": "stdout",
          "text": [
            "torch.Size([4, 4]) torch.Size([16]) torch.Size([2, 8])\n"
          ]
        }
      ]
    },
    {
      "cell_type": "markdown",
      "source": [
        "## Numpy\n",
        "Converting a Torch Tensor to a NumPy array and vice versa is very easy"
      ],
      "metadata": {
        "id": "L5g_YGREFPGd"
      }
    },
    {
      "cell_type": "markdown",
      "source": [
        "### torch to numpy with `.numpy()`"
      ],
      "metadata": {
        "id": "XSAi0SMOH6MR"
      }
    },
    {
      "cell_type": "code",
      "source": [
        "a = torch.ones(5)\n",
        "print(a)\n",
        "\n",
        "b = a.numpy()\n",
        "print(b)\n",
        "print(type(b))"
      ],
      "metadata": {
        "colab": {
          "base_uri": "https://localhost:8080/"
        },
        "id": "RSVh9bK6Ma6J",
        "outputId": "cd3a2aa0-31b4-439d-ba69-3c8b48ee6691"
      },
      "execution_count": null,
      "outputs": [
        {
          "output_type": "stream",
          "name": "stdout",
          "text": [
            "tensor([1., 1., 1., 1., 1.])\n",
            "[1. 1. 1. 1. 1.]\n",
            "<class 'numpy.ndarray'>\n"
          ]
        }
      ]
    },
    {
      "cell_type": "markdown",
      "source": [
        "### Careful!\n",
        "If the Tensor is on the CPU (not the GPU), both objects will share the same memory location, so changing one will also change the other."
      ],
      "metadata": {
        "id": "OIohpC3qM8ix"
      }
    },
    {
      "cell_type": "code",
      "source": [
        "a.add_(1)\n",
        "print(a)\n",
        "print(b)"
      ],
      "metadata": {
        "colab": {
          "base_uri": "https://localhost:8080/"
        },
        "id": "3PMNIzbfNe01",
        "outputId": "c2fa3498-d8dc-4530-98d2-e8285031a36a"
      },
      "execution_count": null,
      "outputs": [
        {
          "output_type": "stream",
          "name": "stdout",
          "text": [
            "tensor([2., 2., 2., 2., 2.])\n",
            "[2. 2. 2. 2. 2.]\n"
          ]
        }
      ]
    },
    {
      "cell_type": "markdown",
      "source": [
        "### numpy to torch with `.from_numpy(x)`"
      ],
      "metadata": {
        "id": "EY-U5ZSyNpnb"
      }
    },
    {
      "cell_type": "code",
      "source": [
        "import numpy as np\n",
        "a = np.ones(5)\n",
        "b = torch.from_numpy(a)\n",
        "print(a)\n",
        "print(b)"
      ],
      "metadata": {
        "colab": {
          "base_uri": "https://localhost:8080/"
        },
        "id": "qxNoH61dNyR7",
        "outputId": "74d71c52-557a-42fc-c85b-9dc679e9db8f"
      },
      "execution_count": null,
      "outputs": [
        {
          "output_type": "stream",
          "name": "stdout",
          "text": [
            "[1. 1. 1. 1. 1.]\n",
            "tensor([1., 1., 1., 1., 1.], dtype=torch.float64)\n"
          ]
        }
      ]
    },
    {
      "cell_type": "markdown",
      "source": [
        "### Again be careful when modifying"
      ],
      "metadata": {
        "id": "6TS4fR0MOIeI"
      }
    },
    {
      "cell_type": "code",
      "source": [
        "a += 1\n",
        "print(a)\n",
        "print(b)"
      ],
      "metadata": {
        "colab": {
          "base_uri": "https://localhost:8080/"
        },
        "id": "qOhee_SxOQ3N",
        "outputId": "b6d7a6a7-1abb-4653-ebb3-441c2d28c418"
      },
      "execution_count": null,
      "outputs": [
        {
          "output_type": "stream",
          "name": "stdout",
          "text": [
            "[2. 2. 2. 2. 2.]\n",
            "tensor([2., 2., 2., 2., 2.], dtype=torch.float64)\n"
          ]
        }
      ]
    },
    {
      "cell_type": "markdown",
      "source": [
        "## Move Tensors to GPU\n",
        "By default all tensors are created on the CPU, but you can also move them to the GPU(only if it's available)"
      ],
      "metadata": {
        "id": "b-lsGMBcOrwA"
      }
    },
    {
      "cell_type": "code",
      "source": [
        "if torch.cuda.is_available():\n",
        "  device = torch.device(\"cuda\")         # a CUDA device object\n",
        "  y = torch.ones_like(x, device=device) # directly create a tensor on GPU\n",
        "  x = x.to(device)                      # or just use strings  \" .to(\"cuda\") \"\n",
        "  z = x + y\n",
        "  # z = z.numpy() # not possible because numpy cannot handle GPU tensors\n",
        "  # move to CPU again\n",
        "  z.to(\"cpu\")     # \" .to \" can also change dtype together!\n",
        "  # z = z.numpy()"
      ],
      "metadata": {
        "id": "mpJN2n0BPYiq"
      },
      "execution_count": null,
      "outputs": []
    }
  ]
}